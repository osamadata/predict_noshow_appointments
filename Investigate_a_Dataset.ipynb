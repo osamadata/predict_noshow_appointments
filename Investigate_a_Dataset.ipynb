{
 "cells": [
  {
   "cell_type": "markdown",
   "metadata": {},
   "source": [
    "\n",
    "\n",
    "#  Investigate  [NO SHOW APPOINTMENTS]\n",
    "\n",
    "## Table of Contents\n",
    "<ul>\n",
    "<li><a href=\"#intro\">Introduction</a></li>\n",
    "<li><a href=\"#wrangling\">Data Wrangling</a></li>\n",
    "<li><a href=\"#eda\">Exploratory Data Analysis</a></li>\n",
    "<li><a href=\"#conclusions\">Conclusions</a></li>\n",
    "</ul>"
   ]
  },
  {
   "cell_type": "markdown",
   "metadata": {},
   "source": [
    "<a id='intro'></a>\n",
    "## Introduction\n",
    "\n",
    "### Dataset Description \n",
    "\n",
    "> This dataset collects information from 100k medical appointments in Brazil and is focused on the questionof whether or not patients show up for their appointment. A number of characteristics about the patient are included in each row columns;<br> PatientId,AppointmentID,Gender,ScheduledDay,AppointmentDay,Age,Neighbourhood,Scholarship,Hipertension,Diabetes,Alcoholism,Handcap,SMS_received,No-show.\n",
    "\n",
    "### Question(s) for Analysis\n",
    ">What factors are important for us to know in order to predict if a patient will show up for their scheduled appointment?<br>\n",
    "to answer this question we need to answer those;\n",
    "<ol>\n",
    "    <li>\n",
    "        does age affect the attend probability?</li>\n",
    "    <li>does gender affect the attend probability?</li>\n",
    "    <li>does neighbourhood affect the attend probability?</li>\n",
    "    <li>does diseases like hypertension and diabetes affect attend probability?</li>\n",
    "    <li>does patients received sms attend probability increses?</li>\n",
    "    <li>does handcap affect the attend probability?</li>\n",
    "    <li>does Scholarship affect the probability to attend (show)?</li>\n",
    "    <li>does Alcoholism affect the probability to attend?</li>\n",
    "    \n",
    "</ol>\n"
   ]
  },
  {
   "cell_type": "code",
   "execution_count": null,
   "metadata": {},
   "outputs": [],
   "source": [
    "# Use this cell to set up import statements for all of the packages that you\n",
    "#   plan to use.\n",
    "\n",
    "# Remember to include a 'magic word' so that your visualizations are plotted\n",
    "#   inline with the notebook. See this page for more:\n",
    "#   http://ipython.readthedocs.io/en/stable/interactive/magics.html\n",
    "import pandas as pd \n",
    "import numpy as np\n",
    "import matplotlib.pyplot as plt\n",
    "import seaborn as sns \n",
    "% matplotlib inline \n"
   ]
  },
  {
   "cell_type": "code",
   "execution_count": null,
   "metadata": {},
   "outputs": [],
   "source": [
    "# Upgrade pandas to use dataframe.explode() function. \n",
    "!pip install --upgrade pandas==0.25.0"
   ]
  },
  {
   "cell_type": "markdown",
   "metadata": {},
   "source": [
    "<a id='wrangling'></a>\n",
    "## Data Wrangling\n",
    "\n",
    "\n",
    "\n",
    "\n",
    "### General Properties\n"
   ]
  },
  {
   "cell_type": "code",
   "execution_count": null,
   "metadata": {},
   "outputs": [],
   "source": [
    "# Load your data and print out a few lines. Perform operations to inspect data\n",
    "#   types and look for instances of missing or possibly errant data.\n",
    "df=pd.read_csv(\"noshowappointments-kagglev2-may-2016.csv\")\n",
    "df.head()"
   ]
  },
  {
   "cell_type": "code",
   "execution_count": null,
   "metadata": {},
   "outputs": [],
   "source": [
    "df.shape"
   ]
  },
  {
   "cell_type": "code",
   "execution_count": null,
   "metadata": {},
   "outputs": [],
   "source": [
    "df.describe()"
   ]
  },
  {
   "cell_type": "code",
   "execution_count": null,
   "metadata": {},
   "outputs": [],
   "source": [
    "df.duplicated().sum()"
   ]
  },
  {
   "cell_type": "code",
   "execution_count": null,
   "metadata": {},
   "outputs": [],
   "source": [
    "df.info()"
   ]
  },
  {
   "cell_type": "markdown",
   "metadata": {},
   "source": [
    "\n",
    "### Data Cleaning\n",
    "\n",
    " "
   ]
  },
  {
   "cell_type": "code",
   "execution_count": null,
   "metadata": {},
   "outputs": [],
   "source": [
    "# After discussing the structure of the data and any problems that need to be\n",
    "#   cleaned, perform those cleaning steps in the second part of this section.\n",
    "coco=df.query('Age==\"-1\"')\n",
    "coco\n",
    "##drop this column AS it amistake.\n",
    "df.drop(index=99832,inplace=True)"
   ]
  },
  {
   "cell_type": "code",
   "execution_count": null,
   "metadata": {},
   "outputs": [],
   "source": [
    "df.describe()"
   ]
  },
  {
   "cell_type": "code",
   "execution_count": null,
   "metadata": {},
   "outputs": [],
   "source": [
    "clean_names=df.rename(columns={'Hipertension':'Hypertension'},inplace=True)\n",
    "clean_names=df.rename(columns={'No-show':'No_show'},inplace=True)\n",
    "df.head()"
   ]
  },
  {
   "cell_type": "code",
   "execution_count": null,
   "metadata": {},
   "outputs": [],
   "source": [
    "#drop duplicated data for the same person \n",
    "drop_duplicated=df.drop_duplicates(['PatientId','No_show'],inplace=True)\n",
    "df.shape"
   ]
  },
  {
   "cell_type": "code",
   "execution_count": null,
   "metadata": {},
   "outputs": [],
   "source": [
    "#drop unnessceray columns\n",
    "drop_columns=df.drop(['PatientId','AppointmentID','ScheduledDay','AppointmentDay'],axis=1,inplace=True)\n",
    "df.head()"
   ]
  },
  {
   "cell_type": "markdown",
   "metadata": {},
   "source": [
    "<a id='eda'></a>\n",
    "## Exploratory Data Analysis\n",
    "\n",
    "\n",
    "\n",
    "\n",
    "\n",
    "\n",
    "\n",
    "### What factors are important for us to know in order to predict if a patient will show up for their scheduled appointment?"
   ]
  },
  {
   "cell_type": "code",
   "execution_count": null,
   "metadata": {},
   "outputs": [],
   "source": [
    "# Use this, and more code cells, to explore your data. Don't forget to add\n",
    "#   Markdown cells to document your observations and findings.\n",
    "df.hist(figsize=(15,20));"
   ]
  },
  {
   "cell_type": "code",
   "execution_count": null,
   "metadata": {},
   "outputs": [],
   "source": [
    "show=df.No_show=='No'\n",
    "noshow=df.No_show=='Yes'\n",
    "df[show].count(),df[noshow].count()"
   ]
  },
  {
   "cell_type": "code",
   "execution_count": null,
   "metadata": {},
   "outputs": [],
   "source": [
    "df[show].describe(),df[noshow].describe()"
   ]
  },
  {
   "cell_type": "markdown",
   "metadata": {},
   "source": [
    "### investigate factors to attented predict "
   ]
  },
  {
   "cell_type": "markdown",
   "metadata": {},
   "source": [
    "### 1-check age to attend correlation ."
   ]
  },
  {
   "cell_type": "code",
   "execution_count": null,
   "metadata": {},
   "outputs": [],
   "source": [
    "# Continue to explore the data to address your additional research\n",
    "#   questions. Add more headers as needed if you have more questions to\n",
    "#   investigate.\n",
    "#check age to attend correlation   \n",
    "def plot_factor_probability(col_name):\n",
    "    plt.figure(figsize=[15,10])\n",
    "    df[col_name][show].hist(alpha=.5,bins=10,color='b',label='show')\n",
    "    df[col_name][noshow].hist(alpha=.5,bins=10,color='r',label='noshow')\n",
    "    plt.legend();\n",
    "    plt.title(\"compersion attentance to \"+col_name)\n",
    "    plt.xlabel(col_name)\n",
    "    plt.ylabel('no of patients');  \n",
    "plot_factor_probability('Age')\n",
    "\n",
    "### there is a relation or postive correlation between age and probability to attend.       \n",
    "    "
   ]
  },
  {
   "cell_type": "markdown",
   "metadata": {},
   "source": [
    "### _there is a relation or postive correlation between age and probability to attend.   "
   ]
  },
  {
   "cell_type": "markdown",
   "metadata": {},
   "source": [
    "### 2-check for probability of age and [ diseases] to attend or show . "
   ]
  },
  {
   "cell_type": "code",
   "execution_count": null,
   "metadata": {},
   "outputs": [],
   "source": [
    "show_prob=df[show].groupby([\"Hypertension\",\"Diabetes\"]).mean()['Age']\n",
    "noshow_prob=df[noshow].groupby([\"Hypertension\",\"Diabetes\"]).mean()['Age']\n",
    "show_prob,noshow_prob\n",
    "## no correltion found "
   ]
  },
  {
   "cell_type": "code",
   "execution_count": null,
   "metadata": {},
   "outputs": [],
   "source": [
    "plt.figure(figsize=[15,5])\n",
    "df[show].groupby(['Hypertension' , 'Diabetes']).mean()['Age'].plot(kind='Bar',color='y',label='show')\n",
    "df[noshow].groupby(['Hypertension' , 'Diabetes']).mean()['Age'].plot(kind='Bar',color='b',label='noshow')\n",
    "plt.legend();\n",
    "plt.title(\"compersion att to age and diseases\")\n",
    "plt.xlabel('Diseases')\n",
    "plt.ylabel('Mean Age');\n",
    "###no correlation between diseases and attentance probability.\n",
    "\n"
   ]
  },
  {
   "cell_type": "markdown",
   "metadata": {},
   "source": [
    "### No correlation between diseases and attentance probability."
   ]
  },
  {
   "cell_type": "markdown",
   "metadata": {},
   "source": [
    "### 3-check for the gender factor (show)."
   ]
  },
  {
   "cell_type": "code",
   "execution_count": null,
   "metadata": {
    "scrolled": true
   },
   "outputs": [],
   "source": [
    "###check for the gender factor (show) \n",
    "def plot_factor_prob(col_name,status):\n",
    "    plt.figure(figsize=[12,4])\n",
    "    df[col_name][status].value_counts().plot(kind='pie',label='show',autopct='%.4f')\n",
    "    plt.legend();\n",
    "    plt.title('compersion att to gender')\n",
    "    plt.xlabel('Gender')\n",
    "    plt.ylabel('no of patients')\n",
    "plot_factor_prob('Gender',show)   "
   ]
  },
  {
   "cell_type": "code",
   "execution_count": null,
   "metadata": {},
   "outputs": [],
   "source": [
    "###check for the gender factor (Noshow) \n",
    "plot_factor_prob('Gender',noshow)\n"
   ]
  },
  {
   "cell_type": "markdown",
   "metadata": {},
   "source": [
    "### the two pie charts give us clear output that there is no correlation between gender and attend as the precentage remain the same for both cases."
   ]
  },
  {
   "cell_type": "markdown",
   "metadata": {},
   "source": [
    "### 4- sum of the probabilities of gender and mean age to attend."
   ]
  },
  {
   "cell_type": "code",
   "execution_count": null,
   "metadata": {},
   "outputs": [],
   "source": [
    "show_prob_gender=df[show].groupby(\"Gender\").Age.mean()\n",
    "noshow_prob_gender=df[noshow].groupby(\"Gender\").Age.mean()\n",
    "show_prob_gender,noshow_prob_gender\n",
    "####No affect of the mean age and gender to attendance"
   ]
  },
  {
   "cell_type": "code",
   "execution_count": null,
   "metadata": {},
   "outputs": [],
   "source": [
    "plt.figure(figsize=[15,7])\n",
    "df[show].groupby(\"Gender\").Age.mean().plot(kind='bar',color='r',label='show')\n",
    "df[noshow].groupby(\"Gender\").Age.mean().plot(kind='bar',color='g',label='noshow')\n",
    "plt.title(\"compersion att to age and Gender\")\n",
    "plt.xlabel('Gender')\n",
    "plt.ylabel('mean age');\n",
    "### there is no correlation between (mean age ,gender) and probability to attend. "
   ]
  },
  {
   "cell_type": "markdown",
   "metadata": {},
   "source": [
    "### as shown there is no correlation between (mean age ,gender) and probability to attend. "
   ]
  },
  {
   "cell_type": "markdown",
   "metadata": {},
   "source": [
    "### 5-check for the SMS received correlation to show ."
   ]
  },
  {
   "cell_type": "code",
   "execution_count": null,
   "metadata": {},
   "outputs": [],
   "source": [
    "###check for the SMS_received  correlation to show.\n",
    "plot_factor_probability('SMS_received')\n",
    "### sure there is strong correlation bteween sms received and probabilty to attend ,as large no of patients received sms show. "
   ]
  },
  {
   "cell_type": "markdown",
   "metadata": {},
   "source": [
    "### sure there is strong correlation bteween sms received and probabilty to attend ,as large no of patients received sms show. "
   ]
  },
  {
   "cell_type": "markdown",
   "metadata": {},
   "source": [
    "### 6-does neighbourhood affect attentance?"
   ]
  },
  {
   "cell_type": "code",
   "execution_count": null,
   "metadata": {},
   "outputs": [],
   "source": [
    "# does Neighbourhood affect attentance \n",
    "plt.figure(figsize=[25,15])\n",
    "df.Neighbourhood[show].value_counts().plot(kind='bar',color='y',label='show')\n",
    "df.Neighbourhood[noshow].value_counts().plot(kind='bar',color='b',label='noshow')\n",
    "plt.legend();\n",
    "plt.title(\"compersion att to \"+factor)\n",
    "plt.xlabel('factor')\n",
    "plt.ylabel('no of patints ') \n",
    "###its clear that neighbourhood has large effect on attending,more than the half show depend on neighbourhood. "
   ]
  },
  {
   "cell_type": "markdown",
   "metadata": {},
   "source": [
    "### its clear that neighbourhood has large affect on attending ,more than the half  show depend of nwighbourhood."
   ]
  },
  {
   "cell_type": "markdown",
   "metadata": {},
   "source": [
    "### 7-does handcap affect the attend probability?"
   ]
  },
  {
   "cell_type": "code",
   "execution_count": null,
   "metadata": {},
   "outputs": [],
   "source": [
    "# does handcap affect the attend probability?\n",
    "plt.figure(figsize=[10,5])\n",
    "df.Handcap[show].value_counts().plot(kind='bar',color='g',label='show')\n",
    "df.Handcap[noshow].value_counts().plot(kind='bar',color='r',label='noshow')\n",
    "plt.legend();\n",
    "plt.title(\"comperision handcap to att\")\n",
    "plt.xlabel('Handcap')\n",
    "plt.ylabel('no of patients')\n",
    "### there is correlation that most handcap patients likely to show. "
   ]
  },
  {
   "cell_type": "markdown",
   "metadata": {},
   "source": [
    "### there is correlation that most handcap patients likely to show. "
   ]
  },
  {
   "cell_type": "markdown",
   "metadata": {},
   "source": [
    "### 8-does Scholarship affect the probability to attend (show)?"
   ]
  },
  {
   "cell_type": "code",
   "execution_count": null,
   "metadata": {},
   "outputs": [],
   "source": [
    "#does Scholarship affect the probability to attend (show)\n",
    "plt.figure(figsize=[15,5])\n",
    "df.Scholarship[show].value_counts().plot(kind='bar',color='b',label='show')\n",
    "df.Scholarship[noshow].value_counts().plot(kind='bar',color='r',label='noshow')\n",
    "plt.legend();\n",
    "plt.title(\"compersion Scholarship to att\")\n",
    "plt.xlabel('Scholarship')\n",
    "plt.ylabel('no of Patients')\n",
    "### wow there is fact that patients with scholarship do not show comperad to patients with no scholarship."
   ]
  },
  {
   "cell_type": "markdown",
   "metadata": {},
   "source": [
    "### wow there is fact that patients with scholarship do not show comperad to patients with no scholarship."
   ]
  },
  {
   "cell_type": "markdown",
   "metadata": {},
   "source": [
    "### 9-does Alcoholism affect the probability to attend?"
   ]
  },
  {
   "cell_type": "code",
   "execution_count": null,
   "metadata": {},
   "outputs": [],
   "source": [
    "###does Alcoholism affect the probability to attend?\n",
    "plt.figure(figsize=[10,4])\n",
    "df.Alcoholism[show].value_counts().plot(kind='bar',color='y',label='show')\n",
    "df.Alcoholism[noshow].value_counts().plot(kind='bar',color='r',label='noshow')\n",
    "plt.legend();\n",
    "plt.title(\"compersion Alcoholism to att\")\n",
    "plt.xlabel('Alcoholism')\n",
    "plt.ylabel('no of Patients')\n",
    "### it seems that there is no correlation of alcoholism to attend or show up."
   ]
  },
  {
   "cell_type": "markdown",
   "metadata": {},
   "source": [
    "### it seems that there is no correlation of alcoholism to attend or show up."
   ]
  },
  {
   "cell_type": "markdown",
   "metadata": {},
   "source": [
    "<a id='conclusions'></a>\n",
    "## Conclusions\n",
    "<ol>\n",
    "    <li>\n",
    "         there is a relation or postive correlation between age and probability to attend.</li>\n",
    "    <li>\n",
    "       its clear that neighbourhood has large effect on attending more than the half show depend on neighbourhood.</li>\n",
    "    <li>\n",
    "     sure there is strong correlation bteween sms received and probabilty to attend ,as large no of patients received smsshow</li>\n",
    "    <li>\n",
    "        there is no correlation between (mean age ,gender) and probability to attend.</li>\n",
    "    <li>\n",
    "        there is correlation that most handcap patients likely to show.</li>\n",
    "    <li>\n",
    "        wow there is fact that patients with scholarship do not show comperad to patients with no scholarship.</li>\n",
    "    <li>\n",
    "        it seems that there is no correlation of alcoholism to attend or show up.</li>\n",
    "    </ol>\n",
    "\n",
    "\n",
    "### Limitations\n",
    "<ol>\n",
    "    <li>most of our variables are categorical needs high level of statistical  method to apply.</li>\n",
    "    <li>\n",
    "        can not get strong correlation between variables as it categorical.</li>\n",
    "    <li>\n",
    "        all shown figures are based on descriptive statistics. </li>\n",
    "\n",
    "\n",
    "## Submitting your Project \n",
    "\n",
    "> **Tip**: Before you submit your project, you need to create a .html or .pdf version of this notebook in the workspace here. To do that, run the code cell below. If it worked correctly, you should get a return code of 0, and you should see the generated .html file in the workspace directory (click on the orange Jupyter icon in the upper left).\n",
    "\n",
    "> **Tip**: Alternatively, you can download this report as .html via the **File** > **Download as** submenu, and then manually upload it into the workspace directory by clicking on the orange Jupyter icon in the upper left, then using the Upload button.\n",
    "\n",
    "> **Tip**: Once you've done this, you can submit your project by clicking on the \"Submit Project\" button in the lower right here. This will create and submit a zip file with this .ipynb doc and the .html or .pdf version you created. Congratulations!"
   ]
  },
  {
   "cell_type": "code",
   "execution_count": 47,
   "metadata": {},
   "outputs": [
    {
     "data": {
      "text/plain": [
       "0"
      ]
     },
     "execution_count": 47,
     "metadata": {},
     "output_type": "execute_result"
    }
   ],
   "source": [
    "from subprocess import call\n",
    "call(['python', '-m', 'nbconvert', 'Investigate_a_Dataset.ipynb'])"
   ]
  },
  {
   "cell_type": "code",
   "execution_count": null,
   "metadata": {},
   "outputs": [],
   "source": []
  }
 ],
 "metadata": {
  "kernelspec": {
   "display_name": "Python 3",
   "language": "python",
   "name": "python3"
  },
  "language_info": {
   "codemirror_mode": {
    "name": "ipython",
    "version": 3
   },
   "file_extension": ".py",
   "mimetype": "text/x-python",
   "name": "python",
   "nbconvert_exporter": "python",
   "pygments_lexer": "ipython3",
   "version": "3.6.3"
  }
 },
 "nbformat": 4,
 "nbformat_minor": 2
}
